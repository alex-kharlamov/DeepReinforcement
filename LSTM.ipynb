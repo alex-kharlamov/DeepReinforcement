{
 "cells": [
  {
   "cell_type": "code",
   "execution_count": null,
   "metadata": {
    "collapsed": false
   },
   "outputs": [
    {
     "name": "stderr",
     "output_type": "stream",
     "text": [
      "[2017-01-19 03:59:23,700] Making new env: Skiing-v0\n"
     ]
    },
    {
     "name": "stdout",
     "output_type": "stream",
     "text": [
      "[+] Starting Game 0\n"
     ]
    }
   ],
   "source": [
    "from keras.layers import *\n",
    "from __future__ import division\n",
    "from __future__ import print_function\n",
    "import gym\n",
    "import numpy as np\n",
    "from keras.models import Sequential\n",
    "from keras.layers import Dense, Activation, Reshape, Dropout, LSTM\n",
    "from keras.optimizers import sgd\n",
    "import os\n",
    "import random\n",
    "from os.path import isfile\n",
    "from collections import deque\n",
    "from keras import utils\n",
    "\n",
    "from gym.core import Wrapper\n",
    "class RewardForPassingGates(Wrapper):\n",
    "    \"\"\"Skiing wrapper that rewards player +1 for passing gates only.\"\"\"\n",
    "    def _reset(self):\n",
    "        \"\"\"On game reset, remember the hash of initial score\"\"\"\n",
    "        s = self.env.reset()\n",
    "        self.prev_score_hash = hash(s[31:38,67:81].tobytes()) #hash of the image chunk with scoreboard\n",
    "        self.actions_count = 0\n",
    "        return s\n",
    "    def _step(self,action):\n",
    "        \"\"\"on each step, if score has changed, give +1 reward, else +0\"\"\"\n",
    "        s,_,done,info = self.env.step(action)\n",
    "        new_score_hash = hash(s[31:38,67:81].tobytes()) #hash of the same image chunk\n",
    "\n",
    "        #reward = +1 if we have just crossed the gate, else 0\n",
    "        r = int(new_score_hash != self.prev_score_hash)\n",
    "        \n",
    "        if r != 0:\n",
    "            self.actions_count = 0\n",
    "            print(\"YAA\")\n",
    "        \n",
    "        self.actions_count += 1\n",
    "        if self.actions_count == 300:\n",
    "            r = -0.03\n",
    "            self.actions_count = 0\n",
    "            print(\"NEYA\")\n",
    "\n",
    "        #remember new score\n",
    "        self.prev_score_hash = new_score_hash\n",
    "        return s,r,done,info\n",
    "\n",
    "NUM_ACTIONS = 3\n",
    "NUM_STATES = 3\n",
    "MAX_REPLAY_STATES = 10\n",
    "BATCH_SIZE = 10\n",
    "NUM_GAMES_TRAIN = 5\n",
    "JUMP_FPS = 5\n",
    "WEIGHT_FILE = 'weights.h5'\n",
    "\n",
    "\n",
    "replay = []\n",
    "\n",
    "gamma = 0.8\n",
    "epsilon = 1\n",
    "\n",
    "env = gym.make(\"Skiing-v0\")\n",
    "\n",
    "#env = RewardForPassingGates(env)\n",
    "\n",
    "\n",
    "\n",
    "layers = [\n",
    "    #Reshape((1, 250, 160, 3), input_shape=(250, 160, 3)),\n",
    "    BatchNormalization(input_shape=(150, 144, 9)),\n",
    "    Convolution2D(4, 3, 3, border_mode='valid', init=\"uniform\", activation=\"relu\"),\n",
    "    MaxPooling2D(pool_size=(3, 3), strides=(2,2)),\n",
    "    Convolution2D(8, 3, 3, border_mode='valid', init=\"uniform\", activation=\"relu\"),\n",
    "    MaxPooling2D(pool_size=(3, 3), strides=(2,2)),\n",
    "    Convolution2D(16, 3, 3, init=\"uniform\", activation=\"relu\"),\n",
    "    MaxPooling2D(pool_size=(3, 3), strides=(2,2)),\n",
    "    Convolution2D(32, 3, 3, activation=\"relu\", init=\"uniform\"),\n",
    "    MaxPooling2D(pool_size=(3, 3), strides=(2,2)),\n",
    "    BatchNormalization(),\n",
    "    #Flatten(),\n",
    "    Reshape((36, 32)),\n",
    "    LSTM(32),\n",
    "    Dense(100, activation='relu', init=\"uniform\"),\n",
    "    Dropout(0.5),\n",
    "    Dense(output_dim=3, activation='softmax', init=\"uniform\")\n",
    "]\n",
    "\n",
    "\n",
    "def t(st):\n",
    "    #print(len(st))\n",
    "    imgs = []\n",
    "    for img in st:\n",
    "        img = img[50:-50, 8:-8]\n",
    "        imgs.append(img)\n",
    "        \n",
    "    imgs = np.concatenate(imgs, axis=2)\n",
    "    #print(imgs.shape)\n",
    "    imgs = imgs.astype(\"float16\")\n",
    "    return imgs.reshape(150, 144, 9) / 255.\n",
    "\n",
    "model = Sequential(layers)\n",
    "model.compile(loss=\"mean_absolute_error\", optimizer=\"adam\", metrics=[\"accuracy\"])\n",
    "#model.load_weights(WEIGHT_FILE)\n",
    "\n",
    "NUM_ACTIONS\n",
    "prb = 0.2\n",
    "gamma = 0.8\n",
    "epsilon = 80\n",
    "\n",
    "actions_number = 1\n",
    "last_action = 0\n",
    "last_action_count = 0\n",
    "\n",
    "st = env.reset()\n",
    "\n",
    "\n",
    "for number_game in range(10):\n",
    "    new_state = env.reset()\n",
    "    x_window = []\n",
    "    x_window.append(new_state)\n",
    "    \n",
    "    new_state, reward, done, info = env.step(0)\n",
    "    x_window.append(new_state)\n",
    "    \n",
    "    new_state, reward, done, info = env.step(0)\n",
    "    x_window.append(new_state)\n",
    "\n",
    "    reward_game = 0\n",
    "    done = False\n",
    "    loss = 0\n",
    "    index_train_per_game = 0\n",
    "    position = 0\n",
    "    print( '[+] Starting Game ' + str(number_game))\n",
    "    while not done:\n",
    "        env.render()\n",
    "        index_train_per_game += 1\n",
    "        if random.randint(0, 100) < epsilon:\n",
    "            action = np.random.randint(NUM_ACTIONS)\n",
    "        else:\n",
    "            #print(\"Tyt\", len(x_window))\n",
    "            q = model.predict(t(x_window).reshape(1, 150, 144, 9))[0]\n",
    "            action = np.argmax(q)\n",
    "\n",
    "\n",
    "        old_state = x_window[:]\n",
    "        if last_action_count == 20:\n",
    "            while action == last_action:\n",
    "                action = np.random.randint(NUM_ACTIONS)\n",
    "        \n",
    "    \n",
    "        new_state, reward, done, info = env.step(action)\n",
    "        x_window.append(new_state)\n",
    "        x_window = x_window[1:]\n",
    "        #print(\"x_window\", len(x_window))\n",
    "\n",
    "        if action == last_action:\n",
    "            last_action_count += 1\n",
    "        else:\n",
    "            last_action_count = 1\n",
    "            last_action = action\n",
    "            \n",
    "        for pos in range(20, 25):\n",
    "            try:\n",
    "                \n",
    "                position = t(x_window)[0, :, :3][pos].tolist().index([0.83935546875, 0.36083984375, 0.36083984375])\n",
    "            except Exception:\n",
    "                position = 65\n",
    "            \n",
    "        #print(position)\n",
    "        reward_game += reward\n",
    "        replay.append([x_window[:], reward, action, done, old_state])\n",
    "\n",
    "\n",
    "        if len(replay) > MAX_REPLAY_STATES:\n",
    "            replay.pop(np.random.randint(MAX_REPLAY_STATES) + 1)\n",
    "\n",
    "        #if JUMP_FPS != 1 and index_train_per_game % JUMP_FPS == 0:\n",
    "            #continue\n",
    "\n",
    "\n",
    "        len_mini_batch = min(len(replay), BATCH_SIZE)\n",
    "\n",
    "        mini_batch = random.sample(replay, len_mini_batch)\n",
    "\n",
    "        X_train = []\n",
    "        Y_train = []\n",
    "\n",
    "        if actions_number % 50 == 0:\n",
    "            for index_rep in range(len_mini_batch):\n",
    "                new_rep_state, reward_rep, action_rep, done_rep, old_rep_state = mini_batch[index_rep]\n",
    "                #print(\"Tyt2\", len(new_rep_state))\n",
    "                temp = model.predict(t(new_rep_state).reshape(1, 150, 144, 9))\n",
    "                #if index_rep % 10 == 0 and index_rep != 0:\n",
    "                    #print(temp, \"index = \", index_rep)\n",
    "\n",
    "                #print(\"Tyt3\", len(old_rep_state))\n",
    "                old_q = model.predict(t(old_rep_state).reshape(1, 150, 144, 9))[0]\n",
    "                new_q = temp[0]\n",
    "                update_target = np.copy(old_q)\n",
    "                if done_rep:\n",
    "                    update_target[action_rep] = -1\n",
    "                else:\n",
    "                    update_target[action_rep] = reward_rep + (gamma * np.max(new_q))\n",
    "                X_train.append(t(old_rep_state))\n",
    "                Y_train.append(utils.np_utils.to_categorical( [np.argmax(update_target)], 3)[0])\n",
    "                #Y_train.append(update_target)\n",
    "\n",
    "            X_train = np.array(X_train)\n",
    "            Y_train = np.array(Y_train)\n",
    "\n",
    "            loss += np.array(model.train_on_batch(X_train, Y_train))\n",
    "        \n",
    "        actions_number += 1\n",
    "\n",
    "        if reward_game > 200:\n",
    "            break\n",
    "    loss_print = (loss / index_train_per_game * JUMP_FPS).tolist()\n",
    "    print (\"[+] End Game {} | Reward {} | Epsilon {:.4f} | TrainPerGame {} | Loss [{:.4f}, {:.4f}] \".format(number_game, reward_game, epsilon, index_train_per_game, loss_print[0], loss_print[1]))\n",
    "    #if epsilon >= 0.8:\n",
    "    #  epsilon -= (1 / (NUM_GAMES_TRAIN))\n",
    "    if isfile(WEIGHT_FILE):\n",
    "        os.remove(WEIGHT_FILE)\n",
    "    model.save_weights(WEIGHT_FILE)"
   ]
  },
  {
   "cell_type": "code",
   "execution_count": 8,
   "metadata": {
    "collapsed": false
   },
   "outputs": [
    {
     "name": "stdout",
     "output_type": "stream",
     "text": [
      "____________________________________________________________________________________________________\n",
      "Layer (type)                     Output Shape          Param #     Connected to                     \n",
      "====================================================================================================\n",
      "batchnormalization_9 (BatchNorma (None, 150, 144, 9)   18          batchnormalization_input_5[0][0] \n",
      "____________________________________________________________________________________________________\n",
      "convolution2d_13 (Convolution2D) (None, 148, 142, 4)   328         batchnormalization_9[0][0]       \n",
      "____________________________________________________________________________________________________\n",
      "maxpooling2d_13 (MaxPooling2D)   (None, 73, 70, 4)     0           convolution2d_13[0][0]           \n",
      "____________________________________________________________________________________________________\n",
      "convolution2d_14 (Convolution2D) (None, 71, 68, 8)     296         maxpooling2d_13[0][0]            \n",
      "____________________________________________________________________________________________________\n",
      "maxpooling2d_14 (MaxPooling2D)   (None, 35, 33, 8)     0           convolution2d_14[0][0]           \n",
      "____________________________________________________________________________________________________\n",
      "convolution2d_15 (Convolution2D) (None, 33, 31, 16)    1168        maxpooling2d_14[0][0]            \n",
      "____________________________________________________________________________________________________\n",
      "maxpooling2d_15 (MaxPooling2D)   (None, 16, 15, 16)    0           convolution2d_15[0][0]           \n",
      "____________________________________________________________________________________________________\n",
      "convolution2d_16 (Convolution2D) (None, 14, 13, 32)    4640        maxpooling2d_15[0][0]            \n",
      "____________________________________________________________________________________________________\n",
      "maxpooling2d_16 (MaxPooling2D)   (None, 6, 6, 32)      0           convolution2d_16[0][0]           \n",
      "____________________________________________________________________________________________________\n",
      "batchnormalization_10 (BatchNorm (None, 6, 6, 32)      64          maxpooling2d_16[0][0]            \n",
      "____________________________________________________________________________________________________\n",
      "flatten_4 (Flatten)              (None, 1152)          0           batchnormalization_10[0][0]      \n",
      "____________________________________________________________________________________________________\n",
      "dense_9 (Dense)                  (None, 250)           288250      flatten_4[0][0]                  \n",
      "____________________________________________________________________________________________________\n",
      "dropout_5 (Dropout)              (None, 250)           0           dense_9[0][0]                    \n",
      "____________________________________________________________________________________________________\n",
      "dense_10 (Dense)                 (None, 3)             753         dropout_5[0][0]                  \n",
      "====================================================================================================\n",
      "Total params: 295517\n",
      "____________________________________________________________________________________________________\n"
     ]
    }
   ],
   "source": [
    "model.summary()"
   ]
  },
  {
   "cell_type": "code",
   "execution_count": 74,
   "metadata": {
    "collapsed": false
   },
   "outputs": [],
   "source": [
    "for index_rep in range(len_mini_batch):\n",
    "    new_rep_state, reward_rep, action_rep, done_rep, old_rep_state = mini_batch[index_rep]\n",
    "    #print(\"Tyt2\", len(new_rep_state))\n",
    "    temp = model.predict(t(new_rep_state).reshape(1, 150, 144, 9))\n",
    "    #if index_rep % 10 == 0 and index_rep != 0:\n",
    "        #print(temp, \"index = \", index_rep)\n",
    "\n",
    "    #print(\"Tyt3\", len(old_rep_state))\n",
    "    old_q = model.predict(t(old_rep_state).reshape(1, 150, 144, 9))[0]\n",
    "    new_q = temp[0]\n",
    "    update_target = np.copy(old_q)\n",
    "    if done_rep:\n",
    "        update_target[action_rep] = -1\n",
    "    else:\n",
    "        update_target[action_rep] = reward_rep + (gamma * np.max(new_q))\n",
    "    X_train.append(t(old_rep_state))\n",
    "    Y_train.append(update_target)\n",
    "\n",
    "X_train = np.array(X_train)\n",
    "Y_train = np.array(Y_train)"
   ]
  },
  {
   "cell_type": "code",
   "execution_count": 81,
   "metadata": {
    "collapsed": false
   },
   "outputs": [
    {
     "data": {
      "text/plain": [
       "array([  1.18641766e-19,   1.00000000e+00,  -4.19999981e+00], dtype=float32)"
      ]
     },
     "execution_count": 81,
     "metadata": {},
     "output_type": "execute_result"
    }
   ],
   "source": [
    "Y_train[5]"
   ]
  },
  {
   "cell_type": "code",
   "execution_count": 65,
   "metadata": {
    "collapsed": false
   },
   "outputs": [
    {
     "data": {
      "text/plain": [
       "array([  2.85441831e-19,   1.00000000e+00,   1.38476966e-17], dtype=float32)"
      ]
     },
     "execution_count": 65,
     "metadata": {},
     "output_type": "execute_result"
    }
   ],
   "source": [
    "new_state, reward, done, info = env.step(2)\n",
    "x_window.append(new_state)\n",
    "x_window = x_window[1:]\n",
    "model.predict(t(x_window).reshape(1, 150, 144, 9))[0]"
   ]
  },
  {
   "cell_type": "code",
   "execution_count": 29,
   "metadata": {
    "collapsed": false
   },
   "outputs": [
    {
     "data": {
      "text/plain": [
       "array([  1.00000000e+00,   1.58483332e-16,   2.54468720e-11], dtype=float32)"
      ]
     },
     "execution_count": 29,
     "metadata": {},
     "output_type": "execute_result"
    }
   ],
   "source": [
    "q"
   ]
  },
  {
   "cell_type": "code",
   "execution_count": 11,
   "metadata": {
    "collapsed": false
   },
   "outputs": [
    {
     "data": {
      "text/plain": [
       "(250, 160, 9)"
      ]
     },
     "execution_count": 11,
     "metadata": {},
     "output_type": "execute_result"
    }
   ],
   "source": [
    "np.concatenate(x_window, axis=2).shape"
   ]
  },
  {
   "cell_type": "code",
   "execution_count": 65,
   "metadata": {
    "collapsed": false
   },
   "outputs": [],
   "source": [
    "%matplotlib inline\n",
    "import matplontlib.pyplot as plt"
   ]
  },
  {
   "cell_type": "code",
   "execution_count": 107,
   "metadata": {
    "collapsed": false
   },
   "outputs": [
    {
     "name": "stdout",
     "output_type": "stream",
     "text": [
      "(150, 144, 3)\n"
     ]
    },
    {
     "data": {
      "text/plain": [
       "69"
      ]
     },
     "execution_count": 107,
     "metadata": {},
     "output_type": "execute_result"
    }
   ],
   "source": [
    "t(new_state)[20].tolist().index([0.83935546875, 0.36083984375, 0.36083984375])"
   ]
  },
  {
   "cell_type": "code",
   "execution_count": 105,
   "metadata": {
    "collapsed": false
   },
   "outputs": [
    {
     "name": "stdout",
     "output_type": "stream",
     "text": [
      "(150, 144, 3)\n"
     ]
    },
    {
     "data": {
      "text/plain": [
       "[[0.92529296875, 0.92529296875, 0.92529296875],\n",
       " [0.92529296875, 0.92529296875, 0.92529296875],\n",
       " [0.92529296875, 0.92529296875, 0.92529296875],\n",
       " [0.92529296875, 0.92529296875, 0.92529296875],\n",
       " [0.92529296875, 0.92529296875, 0.92529296875],\n",
       " [0.92529296875, 0.92529296875, 0.92529296875],\n",
       " [0.92529296875, 0.92529296875, 0.92529296875],\n",
       " [0.92529296875, 0.92529296875, 0.92529296875],\n",
       " [0.92529296875, 0.92529296875, 0.92529296875],\n",
       " [0.92529296875, 0.92529296875, 0.92529296875],\n",
       " [0.92529296875, 0.92529296875, 0.92529296875],\n",
       " [0.92529296875, 0.92529296875, 0.92529296875],\n",
       " [0.92529296875, 0.92529296875, 0.92529296875],\n",
       " [0.92529296875, 0.92529296875, 0.92529296875],\n",
       " [0.92529296875, 0.92529296875, 0.92529296875],\n",
       " [0.92529296875, 0.92529296875, 0.92529296875],\n",
       " [0.92529296875, 0.92529296875, 0.92529296875],\n",
       " [0.92529296875, 0.92529296875, 0.92529296875],\n",
       " [0.92529296875, 0.92529296875, 0.92529296875],\n",
       " [0.92529296875, 0.92529296875, 0.92529296875],\n",
       " [0.92529296875, 0.92529296875, 0.92529296875],\n",
       " [0.92529296875, 0.92529296875, 0.92529296875],\n",
       " [0.92529296875, 0.92529296875, 0.92529296875],\n",
       " [0.92529296875, 0.92529296875, 0.92529296875],\n",
       " [0.92529296875, 0.92529296875, 0.92529296875],\n",
       " [0.92529296875, 0.92529296875, 0.92529296875],\n",
       " [0.92529296875, 0.92529296875, 0.92529296875],\n",
       " [0.92529296875, 0.92529296875, 0.92529296875],\n",
       " [0.92529296875, 0.92529296875, 0.92529296875],\n",
       " [0.92529296875, 0.92529296875, 0.92529296875],\n",
       " [0.92529296875, 0.92529296875, 0.92529296875],\n",
       " [0.92529296875, 0.92529296875, 0.92529296875],\n",
       " [0.92529296875, 0.92529296875, 0.92529296875],\n",
       " [0.92529296875, 0.92529296875, 0.92529296875],\n",
       " [0.92529296875, 0.92529296875, 0.92529296875],\n",
       " [0.92529296875, 0.92529296875, 0.92529296875],\n",
       " [0.92529296875, 0.92529296875, 0.92529296875],\n",
       " [0.92529296875, 0.92529296875, 0.92529296875],\n",
       " [0.92529296875, 0.92529296875, 0.92529296875],\n",
       " [0.92529296875, 0.92529296875, 0.92529296875],\n",
       " [0.92529296875, 0.92529296875, 0.92529296875],\n",
       " [0.92529296875, 0.92529296875, 0.92529296875],\n",
       " [0.92529296875, 0.92529296875, 0.92529296875],\n",
       " [0.92529296875, 0.92529296875, 0.92529296875],\n",
       " [0.92529296875, 0.92529296875, 0.92529296875],\n",
       " [0.92529296875, 0.92529296875, 0.92529296875],\n",
       " [0.92529296875, 0.92529296875, 0.92529296875],\n",
       " [0.92529296875, 0.92529296875, 0.92529296875],\n",
       " [0.92529296875, 0.92529296875, 0.92529296875],\n",
       " [0.92529296875, 0.92529296875, 0.92529296875],\n",
       " [0.92529296875, 0.92529296875, 0.92529296875],\n",
       " [0.92529296875, 0.92529296875, 0.92529296875],\n",
       " [0.92529296875, 0.92529296875, 0.92529296875],\n",
       " [0.92529296875, 0.92529296875, 0.92529296875],\n",
       " [0.92529296875, 0.92529296875, 0.92529296875],\n",
       " [0.92529296875, 0.92529296875, 0.92529296875],\n",
       " [0.92529296875, 0.92529296875, 0.92529296875],\n",
       " [0.92529296875, 0.92529296875, 0.92529296875],\n",
       " [0.92529296875, 0.92529296875, 0.92529296875],\n",
       " [0.92529296875, 0.92529296875, 0.92529296875],\n",
       " [0.92529296875, 0.92529296875, 0.92529296875],\n",
       " [0.92529296875, 0.92529296875, 0.92529296875],\n",
       " [0.92529296875, 0.92529296875, 0.92529296875],\n",
       " [0.92529296875, 0.92529296875, 0.92529296875],\n",
       " [0.92529296875, 0.92529296875, 0.92529296875],\n",
       " [0.92529296875, 0.92529296875, 0.92529296875],\n",
       " [0.92529296875, 0.92529296875, 0.92529296875],\n",
       " [0.92529296875, 0.92529296875, 0.92529296875],\n",
       " [0.92529296875, 0.92529296875, 0.92529296875],\n",
       " [0.83935546875, 0.36083984375, 0.36083984375],\n",
       " [0.83935546875, 0.36083984375, 0.36083984375],\n",
       " [0.83935546875, 0.36083984375, 0.36083984375],\n",
       " [0.83935546875, 0.36083984375, 0.36083984375],\n",
       " [0.83935546875, 0.36083984375, 0.36083984375],\n",
       " [0.83935546875, 0.36083984375, 0.36083984375],\n",
       " [0.83935546875, 0.36083984375, 0.36083984375],\n",
       " [0.92529296875, 0.92529296875, 0.92529296875],\n",
       " [0.92529296875, 0.92529296875, 0.92529296875],\n",
       " [0.92529296875, 0.92529296875, 0.92529296875],\n",
       " [0.92529296875, 0.92529296875, 0.92529296875],\n",
       " [0.92529296875, 0.92529296875, 0.92529296875],\n",
       " [0.92529296875, 0.92529296875, 0.92529296875],\n",
       " [0.92529296875, 0.92529296875, 0.92529296875],\n",
       " [0.92529296875, 0.92529296875, 0.92529296875],\n",
       " [0.92529296875, 0.92529296875, 0.92529296875],\n",
       " [0.92529296875, 0.92529296875, 0.92529296875],\n",
       " [0.92529296875, 0.92529296875, 0.92529296875],\n",
       " [0.92529296875, 0.92529296875, 0.92529296875],\n",
       " [0.92529296875, 0.92529296875, 0.92529296875],\n",
       " [0.92529296875, 0.92529296875, 0.92529296875],\n",
       " [0.92529296875, 0.92529296875, 0.92529296875],\n",
       " [0.92529296875, 0.92529296875, 0.92529296875],\n",
       " [0.92529296875, 0.92529296875, 0.92529296875],\n",
       " [0.92529296875, 0.92529296875, 0.92529296875],\n",
       " [0.92529296875, 0.92529296875, 0.92529296875],\n",
       " [0.92529296875, 0.92529296875, 0.92529296875],\n",
       " [0.92529296875, 0.92529296875, 0.92529296875],\n",
       " [0.92529296875, 0.92529296875, 0.92529296875],\n",
       " [0.92529296875, 0.92529296875, 0.92529296875],\n",
       " [0.92529296875, 0.92529296875, 0.92529296875],\n",
       " [0.92529296875, 0.92529296875, 0.92529296875],\n",
       " [0.92529296875, 0.92529296875, 0.92529296875],\n",
       " [0.92529296875, 0.92529296875, 0.92529296875],\n",
       " [0.92529296875, 0.92529296875, 0.92529296875],\n",
       " [0.92529296875, 0.92529296875, 0.92529296875],\n",
       " [0.92529296875, 0.92529296875, 0.92529296875],\n",
       " [0.92529296875, 0.92529296875, 0.92529296875],\n",
       " [0.92529296875, 0.92529296875, 0.92529296875],\n",
       " [0.92529296875, 0.92529296875, 0.92529296875],\n",
       " [0.92529296875, 0.92529296875, 0.92529296875],\n",
       " [0.92529296875, 0.92529296875, 0.92529296875],\n",
       " [0.92529296875, 0.92529296875, 0.92529296875],\n",
       " [0.92529296875, 0.92529296875, 0.92529296875],\n",
       " [0.92529296875, 0.92529296875, 0.92529296875],\n",
       " [0.92529296875, 0.92529296875, 0.92529296875],\n",
       " [0.92529296875, 0.92529296875, 0.92529296875],\n",
       " [0.92529296875, 0.92529296875, 0.92529296875],\n",
       " [0.92529296875, 0.92529296875, 0.92529296875],\n",
       " [0.92529296875, 0.92529296875, 0.92529296875],\n",
       " [0.92529296875, 0.92529296875, 0.92529296875],\n",
       " [0.92529296875, 0.92529296875, 0.92529296875],\n",
       " [0.92529296875, 0.92529296875, 0.92529296875],\n",
       " [0.92529296875, 0.92529296875, 0.92529296875],\n",
       " [0.92529296875, 0.92529296875, 0.92529296875],\n",
       " [0.92529296875, 0.92529296875, 0.92529296875],\n",
       " [0.92529296875, 0.92529296875, 0.92529296875],\n",
       " [0.92529296875, 0.92529296875, 0.92529296875],\n",
       " [0.92529296875, 0.92529296875, 0.92529296875],\n",
       " [0.92529296875, 0.92529296875, 0.92529296875],\n",
       " [0.92529296875, 0.92529296875, 0.92529296875],\n",
       " [0.92529296875, 0.92529296875, 0.92529296875],\n",
       " [0.92529296875, 0.92529296875, 0.92529296875],\n",
       " [0.92529296875, 0.92529296875, 0.92529296875],\n",
       " [0.92529296875, 0.92529296875, 0.92529296875],\n",
       " [0.92529296875, 0.92529296875, 0.92529296875],\n",
       " [0.92529296875, 0.92529296875, 0.92529296875],\n",
       " [0.92529296875, 0.92529296875, 0.92529296875],\n",
       " [0.92529296875, 0.92529296875, 0.92529296875],\n",
       " [0.92529296875, 0.92529296875, 0.92529296875],\n",
       " [0.92529296875, 0.92529296875, 0.92529296875],\n",
       " [0.92529296875, 0.92529296875, 0.92529296875],\n",
       " [0.92529296875, 0.92529296875, 0.92529296875],\n",
       " [0.92529296875, 0.92529296875, 0.92529296875],\n",
       " [0.92529296875, 0.92529296875, 0.92529296875]]"
      ]
     },
     "execution_count": 105,
     "metadata": {},
     "output_type": "execute_result"
    }
   ],
   "source": [
    "t(new_state)[20].tolist()"
   ]
  },
  {
   "cell_type": "code",
   "execution_count": 95,
   "metadata": {
    "collapsed": false
   },
   "outputs": [
    {
     "name": "stdout",
     "output_type": "stream",
     "text": [
      "(150, 144, 3)\n"
     ]
    },
    {
     "data": {
      "text/plain": [
       "<matplotlib.image.AxesImage at 0x7f944d87bcf8>"
      ]
     },
     "execution_count": 95,
     "metadata": {},
     "output_type": "execute_result"
    },
    {
     "data": {
      "image/png": "[encoded data removed]",
      "text/plain": [
       "<matplotlib.figure.Figure at 0x7f944d8a2748>"
      ]
     },
     "metadata": {},
     "output_type": "display_data"
    }
   ],
   "source": [
    "plt.imshow(t(new_state))"
   ]
  },
  {
   "cell_type": "code",
   "execution_count": 58,
   "metadata": {
    "collapsed": false
   },
   "outputs": [
    {
     "data": {
      "text/plain": [
       "array([[ 0.92529297,  0.92529297,  0.92529297],\n",
       "       [ 0.92529297,  0.92529297,  0.92529297],\n",
       "       [ 0.92529297,  0.92529297,  0.92529297],\n",
       "       [ 0.92529297,  0.92529297,  0.92529297],\n",
       "       [ 0.92529297,  0.92529297,  0.92529297],\n",
       "       [ 0.92529297,  0.92529297,  0.92529297],\n",
       "       [ 0.92529297,  0.92529297,  0.92529297],\n",
       "       [ 0.92529297,  0.92529297,  0.92529297],\n",
       "       [ 0.92529297,  0.92529297,  0.92529297],\n",
       "       [ 0.92529297,  0.92529297,  0.92529297],\n",
       "       [ 0.92529297,  0.92529297,  0.92529297],\n",
       "       [ 0.92529297,  0.92529297,  0.92529297],\n",
       "       [ 0.92529297,  0.92529297,  0.92529297],\n",
       "       [ 0.92529297,  0.92529297,  0.92529297],\n",
       "       [ 0.92529297,  0.92529297,  0.92529297],\n",
       "       [ 0.92529297,  0.92529297,  0.92529297],\n",
       "       [ 0.92529297,  0.92529297,  0.92529297],\n",
       "       [ 0.92529297,  0.92529297,  0.92529297],\n",
       "       [ 0.92529297,  0.92529297,  0.92529297],\n",
       "       [ 0.92529297,  0.92529297,  0.92529297],\n",
       "       [ 0.92529297,  0.92529297,  0.92529297],\n",
       "       [ 0.92529297,  0.92529297,  0.92529297],\n",
       "       [ 0.92529297,  0.92529297,  0.92529297],\n",
       "       [ 0.92529297,  0.92529297,  0.92529297],\n",
       "       [ 0.92529297,  0.92529297,  0.92529297],\n",
       "       [ 0.92529297,  0.92529297,  0.92529297],\n",
       "       [ 0.92529297,  0.92529297,  0.92529297],\n",
       "       [ 0.92529297,  0.92529297,  0.92529297],\n",
       "       [ 0.92529297,  0.92529297,  0.92529297],\n",
       "       [ 0.92529297,  0.92529297,  0.92529297],\n",
       "       [ 0.92529297,  0.92529297,  0.92529297],\n",
       "       [ 0.92529297,  0.92529297,  0.92529297],\n",
       "       [ 0.92529297,  0.92529297,  0.92529297],\n",
       "       [ 0.92529297,  0.92529297,  0.92529297],\n",
       "       [ 0.92529297,  0.92529297,  0.92529297],\n",
       "       [ 0.92529297,  0.92529297,  0.92529297],\n",
       "       [ 0.92529297,  0.92529297,  0.92529297],\n",
       "       [ 0.92529297,  0.92529297,  0.92529297],\n",
       "       [ 0.92529297,  0.92529297,  0.92529297],\n",
       "       [ 0.92529297,  0.92529297,  0.92529297],\n",
       "       [ 0.92529297,  0.92529297,  0.92529297],\n",
       "       [ 0.92529297,  0.92529297,  0.92529297],\n",
       "       [ 0.92529297,  0.92529297,  0.92529297],\n",
       "       [ 0.92529297,  0.92529297,  0.92529297],\n",
       "       [ 0.92529297,  0.92529297,  0.92529297],\n",
       "       [ 0.92529297,  0.92529297,  0.92529297],\n",
       "       [ 0.92529297,  0.92529297,  0.92529297],\n",
       "       [ 0.92529297,  0.92529297,  0.92529297],\n",
       "       [ 0.92529297,  0.92529297,  0.92529297],\n",
       "       [ 0.92529297,  0.92529297,  0.92529297],\n",
       "       [ 0.92529297,  0.92529297,  0.92529297],\n",
       "       [ 0.92529297,  0.92529297,  0.92529297],\n",
       "       [ 0.92529297,  0.92529297,  0.92529297],\n",
       "       [ 0.92529297,  0.92529297,  0.92529297],\n",
       "       [ 0.92529297,  0.92529297,  0.92529297],\n",
       "       [ 0.92529297,  0.92529297,  0.92529297],\n",
       "       [ 0.92529297,  0.92529297,  0.92529297],\n",
       "       [ 0.92529297,  0.92529297,  0.92529297],\n",
       "       [ 0.92529297,  0.92529297,  0.92529297],\n",
       "       [ 0.92529297,  0.92529297,  0.92529297],\n",
       "       [ 0.92529297,  0.92529297,  0.92529297],\n",
       "       [ 0.92529297,  0.92529297,  0.92529297],\n",
       "       [ 0.92529297,  0.92529297,  0.92529297],\n",
       "       [ 0.92529297,  0.92529297,  0.92529297],\n",
       "       [ 0.92529297,  0.92529297,  0.92529297],\n",
       "       [ 0.92529297,  0.92529297,  0.92529297],\n",
       "       [ 0.92529297,  0.92529297,  0.92529297],\n",
       "       [ 0.92529297,  0.92529297,  0.92529297],\n",
       "       [ 0.92529297,  0.92529297,  0.92529297],\n",
       "       [ 0.92529297,  0.92529297,  0.92529297],\n",
       "       [ 0.92529297,  0.92529297,  0.92529297],\n",
       "       [ 0.92529297,  0.92529297,  0.92529297],\n",
       "       [ 0.92529297,  0.92529297,  0.92529297],\n",
       "       [ 0.92529297,  0.92529297,  0.92529297],\n",
       "       [ 0.92529297,  0.92529297,  0.92529297],\n",
       "       [ 0.92529297,  0.92529297,  0.92529297],\n",
       "       [ 0.92529297,  0.92529297,  0.92529297],\n",
       "       [ 0.92529297,  0.92529297,  0.92529297],\n",
       "       [ 0.92529297,  0.92529297,  0.92529297],\n",
       "       [ 0.92529297,  0.92529297,  0.92529297],\n",
       "       [ 0.92529297,  0.92529297,  0.92529297],\n",
       "       [ 0.92529297,  0.92529297,  0.92529297],\n",
       "       [ 0.92529297,  0.92529297,  0.92529297],\n",
       "       [ 0.92529297,  0.92529297,  0.92529297],\n",
       "       [ 0.92529297,  0.92529297,  0.92529297],\n",
       "       [ 0.92529297,  0.92529297,  0.92529297],\n",
       "       [ 0.92529297,  0.92529297,  0.92529297],\n",
       "       [ 0.92529297,  0.92529297,  0.92529297],\n",
       "       [ 0.92529297,  0.92529297,  0.92529297],\n",
       "       [ 0.92529297,  0.92529297,  0.92529297],\n",
       "       [ 0.92529297,  0.92529297,  0.92529297],\n",
       "       [ 0.92529297,  0.92529297,  0.92529297],\n",
       "       [ 0.92529297,  0.92529297,  0.92529297],\n",
       "       [ 0.92529297,  0.92529297,  0.92529297],\n",
       "       [ 0.92529297,  0.92529297,  0.92529297],\n",
       "       [ 0.92529297,  0.92529297,  0.92529297],\n",
       "       [ 0.92529297,  0.92529297,  0.92529297],\n",
       "       [ 0.92529297,  0.92529297,  0.92529297],\n",
       "       [ 0.92529297,  0.92529297,  0.92529297],\n",
       "       [ 0.92529297,  0.92529297,  0.92529297],\n",
       "       [ 0.2824707 ,  0.62744141,  0.2824707 ],\n",
       "       [ 0.2824707 ,  0.62744141,  0.2824707 ],\n",
       "       [ 0.2824707 ,  0.62744141,  0.2824707 ],\n",
       "       [ 0.2824707 ,  0.62744141,  0.2824707 ],\n",
       "       [ 0.92529297,  0.92529297,  0.92529297],\n",
       "       [ 0.92529297,  0.92529297,  0.92529297],\n",
       "       [ 0.92529297,  0.92529297,  0.92529297],\n",
       "       [ 0.92529297,  0.92529297,  0.92529297],\n",
       "       [ 0.92529297,  0.92529297,  0.92529297],\n",
       "       [ 0.92529297,  0.92529297,  0.92529297]], dtype=float16)"
      ]
     },
     "execution_count": 58,
     "metadata": {},
     "output_type": "execute_result"
    }
   ],
   "source": [
    "t(new_state)[50]"
   ]
  },
  {
   "cell_type": "code",
   "execution_count": 38,
   "metadata": {
    "collapsed": false
   },
   "outputs": [
    {
     "data": {
      "text/plain": [
       "{0.0,\n",
       " 0.25879,\n",
       " 0.28247,\n",
       " 0.36084,\n",
       " 0.396,\n",
       " 0.4314,\n",
       " 0.61182,\n",
       " 0.61963,\n",
       " 0.62744,\n",
       " 0.75293,\n",
       " 0.78418,\n",
       " 0.81592,\n",
       " 0.83936,\n",
       " 0.92529}"
      ]
     },
     "execution_count": 38,
     "metadata": {},
     "output_type": "execute_result"
    }
   ],
   "source": [
    "set(t(new_state).flatten())"
   ]
  },
  {
   "cell_type": "code",
   "execution_count": 40,
   "metadata": {
    "collapsed": false
   },
   "outputs": [
    {
     "data": {
      "text/plain": [
       "array([[ 0.        ,  0.        ,  0.        ],\n",
       "       [ 0.        ,  0.        ,  0.        ],\n",
       "       [ 0.        ,  0.        ,  0.        ],\n",
       "       [ 0.        ,  0.        ,  0.        ],\n",
       "       [ 0.        ,  0.        ,  0.        ],\n",
       "       [ 0.        ,  0.        ,  0.        ],\n",
       "       [ 0.        ,  0.        ,  0.        ],\n",
       "       [ 0.        ,  0.        ,  0.        ],\n",
       "       [ 0.92529297,  0.92529297,  0.92529297],\n",
       "       [ 0.92529297,  0.92529297,  0.92529297],\n",
       "       [ 0.92529297,  0.92529297,  0.92529297],\n",
       "       [ 0.92529297,  0.92529297,  0.92529297],\n",
       "       [ 0.92529297,  0.92529297,  0.92529297],\n",
       "       [ 0.92529297,  0.92529297,  0.92529297],\n",
       "       [ 0.92529297,  0.92529297,  0.92529297],\n",
       "       [ 0.92529297,  0.92529297,  0.92529297],\n",
       "       [ 0.92529297,  0.92529297,  0.92529297],\n",
       "       [ 0.92529297,  0.92529297,  0.92529297],\n",
       "       [ 0.92529297,  0.92529297,  0.92529297],\n",
       "       [ 0.92529297,  0.92529297,  0.92529297],\n",
       "       [ 0.92529297,  0.92529297,  0.92529297],\n",
       "       [ 0.92529297,  0.92529297,  0.92529297],\n",
       "       [ 0.92529297,  0.92529297,  0.92529297],\n",
       "       [ 0.92529297,  0.92529297,  0.92529297],\n",
       "       [ 0.92529297,  0.92529297,  0.92529297],\n",
       "       [ 0.92529297,  0.92529297,  0.92529297],\n",
       "       [ 0.92529297,  0.92529297,  0.92529297],\n",
       "       [ 0.92529297,  0.92529297,  0.92529297],\n",
       "       [ 0.92529297,  0.92529297,  0.92529297],\n",
       "       [ 0.92529297,  0.92529297,  0.92529297],\n",
       "       [ 0.43139648,  0.61181641,  0.25878906],\n",
       "       [ 0.43139648,  0.61181641,  0.25878906],\n",
       "       [ 0.83935547,  0.36083984,  0.36083984],\n",
       "       [ 0.83935547,  0.36083984,  0.36083984],\n",
       "       [ 0.43139648,  0.61181641,  0.25878906],\n",
       "       [ 0.43139648,  0.61181641,  0.25878906],\n",
       "       [ 0.43139648,  0.61181641,  0.25878906],\n",
       "       [ 0.43139648,  0.61181641,  0.25878906],\n",
       "       [ 0.43139648,  0.61181641,  0.25878906],\n",
       "       [ 0.43139648,  0.61181641,  0.25878906],\n",
       "       [ 0.43139648,  0.61181641,  0.25878906],\n",
       "       [ 0.43139648,  0.61181641,  0.25878906],\n",
       "       [ 0.43139648,  0.61181641,  0.25878906],\n",
       "       [ 0.43139648,  0.61181641,  0.25878906],\n",
       "       [ 0.43139648,  0.61181641,  0.25878906],\n",
       "       [ 0.43139648,  0.61181641,  0.25878906],\n",
       "       [ 0.92529297,  0.92529297,  0.92529297],\n",
       "       [ 0.92529297,  0.92529297,  0.92529297],\n",
       "       [ 0.92529297,  0.92529297,  0.92529297],\n",
       "       [ 0.92529297,  0.92529297,  0.92529297],\n",
       "       [ 0.92529297,  0.92529297,  0.92529297],\n",
       "       [ 0.92529297,  0.92529297,  0.92529297],\n",
       "       [ 0.92529297,  0.92529297,  0.92529297],\n",
       "       [ 0.92529297,  0.92529297,  0.92529297],\n",
       "       [ 0.92529297,  0.92529297,  0.92529297],\n",
       "       [ 0.92529297,  0.92529297,  0.92529297],\n",
       "       [ 0.92529297,  0.92529297,  0.92529297],\n",
       "       [ 0.92529297,  0.92529297,  0.92529297],\n",
       "       [ 0.92529297,  0.92529297,  0.92529297],\n",
       "       [ 0.92529297,  0.92529297,  0.92529297],\n",
       "       [ 0.92529297,  0.92529297,  0.92529297],\n",
       "       [ 0.92529297,  0.92529297,  0.92529297],\n",
       "       [ 0.92529297,  0.92529297,  0.92529297],\n",
       "       [ 0.92529297,  0.92529297,  0.92529297],\n",
       "       [ 0.92529297,  0.92529297,  0.92529297],\n",
       "       [ 0.92529297,  0.92529297,  0.92529297],\n",
       "       [ 0.92529297,  0.92529297,  0.92529297],\n",
       "       [ 0.92529297,  0.92529297,  0.92529297],\n",
       "       [ 0.92529297,  0.92529297,  0.92529297],\n",
       "       [ 0.92529297,  0.92529297,  0.92529297],\n",
       "       [ 0.92529297,  0.92529297,  0.92529297],\n",
       "       [ 0.92529297,  0.92529297,  0.92529297],\n",
       "       [ 0.92529297,  0.92529297,  0.92529297],\n",
       "       [ 0.92529297,  0.92529297,  0.92529297],\n",
       "       [ 0.92529297,  0.92529297,  0.92529297],\n",
       "       [ 0.92529297,  0.92529297,  0.92529297],\n",
       "       [ 0.92529297,  0.92529297,  0.92529297],\n",
       "       [ 0.92529297,  0.92529297,  0.92529297],\n",
       "       [ 0.92529297,  0.92529297,  0.92529297],\n",
       "       [ 0.92529297,  0.92529297,  0.92529297],\n",
       "       [ 0.92529297,  0.92529297,  0.92529297],\n",
       "       [ 0.92529297,  0.92529297,  0.92529297],\n",
       "       [ 0.92529297,  0.92529297,  0.92529297],\n",
       "       [ 0.92529297,  0.92529297,  0.92529297],\n",
       "       [ 0.92529297,  0.92529297,  0.92529297],\n",
       "       [ 0.92529297,  0.92529297,  0.92529297],\n",
       "       [ 0.92529297,  0.92529297,  0.92529297],\n",
       "       [ 0.92529297,  0.92529297,  0.92529297],\n",
       "       [ 0.92529297,  0.92529297,  0.92529297],\n",
       "       [ 0.92529297,  0.92529297,  0.92529297],\n",
       "       [ 0.92529297,  0.92529297,  0.92529297],\n",
       "       [ 0.92529297,  0.92529297,  0.92529297],\n",
       "       [ 0.92529297,  0.92529297,  0.92529297],\n",
       "       [ 0.92529297,  0.92529297,  0.92529297],\n",
       "       [ 0.92529297,  0.92529297,  0.92529297],\n",
       "       [ 0.92529297,  0.92529297,  0.92529297],\n",
       "       [ 0.92529297,  0.92529297,  0.92529297],\n",
       "       [ 0.92529297,  0.92529297,  0.92529297],\n",
       "       [ 0.92529297,  0.92529297,  0.92529297],\n",
       "       [ 0.92529297,  0.92529297,  0.92529297],\n",
       "       [ 0.92529297,  0.92529297,  0.92529297],\n",
       "       [ 0.92529297,  0.92529297,  0.92529297],\n",
       "       [ 0.92529297,  0.92529297,  0.92529297],\n",
       "       [ 0.92529297,  0.92529297,  0.92529297],\n",
       "       [ 0.92529297,  0.92529297,  0.92529297],\n",
       "       [ 0.92529297,  0.92529297,  0.92529297],\n",
       "       [ 0.92529297,  0.92529297,  0.92529297],\n",
       "       [ 0.92529297,  0.92529297,  0.92529297],\n",
       "       [ 0.92529297,  0.92529297,  0.92529297],\n",
       "       [ 0.92529297,  0.92529297,  0.92529297],\n",
       "       [ 0.92529297,  0.92529297,  0.92529297],\n",
       "       [ 0.92529297,  0.92529297,  0.92529297],\n",
       "       [ 0.92529297,  0.92529297,  0.92529297],\n",
       "       [ 0.92529297,  0.92529297,  0.92529297],\n",
       "       [ 0.92529297,  0.92529297,  0.92529297],\n",
       "       [ 0.92529297,  0.92529297,  0.92529297],\n",
       "       [ 0.92529297,  0.92529297,  0.92529297],\n",
       "       [ 0.92529297,  0.92529297,  0.92529297],\n",
       "       [ 0.92529297,  0.92529297,  0.92529297],\n",
       "       [ 0.92529297,  0.92529297,  0.92529297],\n",
       "       [ 0.92529297,  0.92529297,  0.92529297],\n",
       "       [ 0.92529297,  0.92529297,  0.92529297],\n",
       "       [ 0.92529297,  0.92529297,  0.92529297],\n",
       "       [ 0.92529297,  0.92529297,  0.92529297],\n",
       "       [ 0.92529297,  0.92529297,  0.92529297],\n",
       "       [ 0.92529297,  0.92529297,  0.92529297],\n",
       "       [ 0.92529297,  0.92529297,  0.92529297],\n",
       "       [ 0.92529297,  0.92529297,  0.92529297],\n",
       "       [ 0.92529297,  0.92529297,  0.92529297],\n",
       "       [ 0.92529297,  0.92529297,  0.92529297]], dtype=float16)"
      ]
     },
     "execution_count": 40,
     "metadata": {},
     "output_type": "execute_result"
    }
   ],
   "source": [
    "t(new_state)[0]"
   ]
  },
  {
   "cell_type": "code",
   "execution_count": 32,
   "metadata": {
    "collapsed": false
   },
   "outputs": [
    {
     "data": {
      "text/plain": [
       "{0, 66, 72, 92, 101, 158, 160, 192, 200, 208, 214, 236}"
      ]
     },
     "execution_count": 32,
     "metadata": {},
     "output_type": "execute_result"
    }
   ],
   "source": [
    "set(new_state.flatten())"
   ]
  },
  {
   "cell_type": "code",
   "execution_count": 34,
   "metadata": {
    "collapsed": false
   },
   "outputs": [
    {
     "data": {
      "text/plain": [
       "array([[0, 0, 0],\n",
       "       [0, 0, 0],\n",
       "       [0, 0, 0],\n",
       "       [0, 0, 0],\n",
       "       [0, 0, 0],\n",
       "       [0, 0, 0],\n",
       "       [0, 0, 0],\n",
       "       [0, 0, 0],\n",
       "       [0, 0, 0],\n",
       "       [0, 0, 0],\n",
       "       [0, 0, 0],\n",
       "       [0, 0, 0],\n",
       "       [0, 0, 0],\n",
       "       [0, 0, 0],\n",
       "       [0, 0, 0],\n",
       "       [0, 0, 0],\n",
       "       [0, 0, 0],\n",
       "       [0, 0, 0],\n",
       "       [0, 0, 0],\n",
       "       [0, 0, 0],\n",
       "       [0, 0, 0],\n",
       "       [0, 0, 0],\n",
       "       [0, 0, 0],\n",
       "       [0, 0, 0],\n",
       "       [0, 0, 0],\n",
       "       [0, 0, 0],\n",
       "       [0, 0, 0],\n",
       "       [0, 0, 0],\n",
       "       [0, 0, 0],\n",
       "       [0, 0, 0],\n",
       "       [0, 0, 0],\n",
       "       [0, 0, 0],\n",
       "       [0, 0, 0],\n",
       "       [0, 0, 0],\n",
       "       [0, 0, 0],\n",
       "       [0, 0, 0],\n",
       "       [0, 0, 0],\n",
       "       [0, 0, 0],\n",
       "       [0, 0, 0],\n",
       "       [0, 0, 0],\n",
       "       [0, 0, 0],\n",
       "       [0, 0, 0],\n",
       "       [0, 0, 0],\n",
       "       [0, 0, 0],\n",
       "       [0, 0, 0],\n",
       "       [0, 0, 0],\n",
       "       [0, 0, 0],\n",
       "       [0, 0, 0],\n",
       "       [0, 0, 0],\n",
       "       [0, 0, 0],\n",
       "       [0, 0, 0],\n",
       "       [0, 0, 0],\n",
       "       [0, 0, 0],\n",
       "       [0, 0, 0],\n",
       "       [0, 0, 0],\n",
       "       [0, 0, 0],\n",
       "       [0, 0, 0],\n",
       "       [0, 0, 0],\n",
       "       [0, 0, 0],\n",
       "       [0, 0, 0],\n",
       "       [0, 0, 0],\n",
       "       [0, 0, 0],\n",
       "       [0, 0, 0],\n",
       "       [0, 0, 0],\n",
       "       [0, 0, 0],\n",
       "       [0, 0, 0],\n",
       "       [0, 0, 0],\n",
       "       [0, 0, 0],\n",
       "       [0, 0, 0],\n",
       "       [0, 0, 0],\n",
       "       [0, 0, 0],\n",
       "       [0, 0, 0],\n",
       "       [0, 0, 0],\n",
       "       [0, 0, 0],\n",
       "       [0, 0, 0],\n",
       "       [0, 0, 0],\n",
       "       [0, 0, 0],\n",
       "       [0, 0, 0],\n",
       "       [0, 0, 0],\n",
       "       [0, 0, 0],\n",
       "       [0, 0, 0],\n",
       "       [0, 0, 0],\n",
       "       [0, 0, 0],\n",
       "       [0, 0, 0],\n",
       "       [0, 0, 0],\n",
       "       [0, 0, 0],\n",
       "       [0, 0, 0],\n",
       "       [0, 0, 0],\n",
       "       [0, 0, 0],\n",
       "       [0, 0, 0],\n",
       "       [0, 0, 0],\n",
       "       [0, 0, 0],\n",
       "       [0, 0, 0],\n",
       "       [0, 0, 0],\n",
       "       [0, 0, 0],\n",
       "       [0, 0, 0],\n",
       "       [0, 0, 0],\n",
       "       [0, 0, 0],\n",
       "       [0, 0, 0],\n",
       "       [0, 0, 0],\n",
       "       [0, 0, 0],\n",
       "       [0, 0, 0],\n",
       "       [0, 0, 0],\n",
       "       [0, 0, 0],\n",
       "       [0, 0, 0],\n",
       "       [0, 0, 0],\n",
       "       [0, 0, 0],\n",
       "       [0, 0, 0],\n",
       "       [0, 0, 0],\n",
       "       [0, 0, 0],\n",
       "       [0, 0, 0],\n",
       "       [0, 0, 0],\n",
       "       [0, 0, 0],\n",
       "       [0, 0, 0],\n",
       "       [0, 0, 0],\n",
       "       [0, 0, 0],\n",
       "       [0, 0, 0],\n",
       "       [0, 0, 0],\n",
       "       [0, 0, 0],\n",
       "       [0, 0, 0],\n",
       "       [0, 0, 0],\n",
       "       [0, 0, 0],\n",
       "       [0, 0, 0],\n",
       "       [0, 0, 0],\n",
       "       [0, 0, 0],\n",
       "       [0, 0, 0],\n",
       "       [0, 0, 0],\n",
       "       [0, 0, 0],\n",
       "       [0, 0, 0],\n",
       "       [0, 0, 0],\n",
       "       [0, 0, 0],\n",
       "       [0, 0, 0],\n",
       "       [0, 0, 0],\n",
       "       [0, 0, 0],\n",
       "       [0, 0, 0],\n",
       "       [0, 0, 0],\n",
       "       [0, 0, 0],\n",
       "       [0, 0, 0],\n",
       "       [0, 0, 0],\n",
       "       [0, 0, 0],\n",
       "       [0, 0, 0],\n",
       "       [0, 0, 0],\n",
       "       [0, 0, 0],\n",
       "       [0, 0, 0],\n",
       "       [0, 0, 0],\n",
       "       [0, 0, 0],\n",
       "       [0, 0, 0],\n",
       "       [0, 0, 0],\n",
       "       [0, 0, 0],\n",
       "       [0, 0, 0],\n",
       "       [0, 0, 0],\n",
       "       [0, 0, 0],\n",
       "       [0, 0, 0],\n",
       "       [0, 0, 0],\n",
       "       [0, 0, 0],\n",
       "       [0, 0, 0],\n",
       "       [0, 0, 0],\n",
       "       [0, 0, 0],\n",
       "       [0, 0, 0],\n",
       "       [0, 0, 0]], dtype=uint8)"
      ]
     },
     "execution_count": 34,
     "metadata": {},
     "output_type": "execute_result"
    }
   ],
   "source": [
    "new_state[5]"
   ]
  },
  {
   "cell_type": "code",
   "execution_count": 11,
   "metadata": {
    "collapsed": false
   },
   "outputs": [],
   "source": [
    "if random.random() < epsilon:\n",
    "    action = np.random.randint(NUM_ACTIONS)"
   ]
  },
  {
   "cell_type": "code",
   "execution_count": 14,
   "metadata": {
    "collapsed": false
   },
   "outputs": [
    {
     "data": {
      "text/plain": [
       "0.0"
      ]
     },
     "execution_count": 14,
     "metadata": {},
     "output_type": "execute_result"
    }
   ],
   "source": [
    "st.min()"
   ]
  },
  {
   "cell_type": "code",
   "execution_count": 41,
   "metadata": {
    "collapsed": false
   },
   "outputs": [
    {
     "data": {
      "text/plain": [
       "array([  7.24852782e-08,   9.91017699e-01,   9.01098147e-08], dtype=float32)"
      ]
     },
     "execution_count": 41,
     "metadata": {},
     "output_type": "execute_result"
    }
   ],
   "source": [
    "model.predict(t(new_state))[0]"
   ]
  },
  {
   "cell_type": "code",
   "execution_count": 98,
   "metadata": {
    "collapsed": false
   },
   "outputs": [],
   "source": [
    "model.save('lunch')"
   ]
  }
 ],
 "metadata": {
  "kernelspec": {
   "display_name": "Python 3",
   "language": "python",
   "name": "python3"
  },
  "language_info": {
   "codemirror_mode": {
    "name": "ipython",
    "version": 3
   },
   "file_extension": ".py",
   "mimetype": "text/x-python",
   "name": "python",
   "nbconvert_exporter": "python",
   "pygments_lexer": "ipython3",
   "version": "3.4.3"
  }
 },
 "nbformat": 4,
 "nbformat_minor": 2
}
